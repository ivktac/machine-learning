{
 "cells": [
  {
   "cell_type": "code",
   "execution_count": 9,
   "metadata": {},
   "outputs": [
    {
     "name": "stdout",
     "output_type": "stream",
     "text": [
      "Тестування моделі:\n",
      "[0 0 0] -> [0.957989]\n",
      "[0 1 0] -> [0.99922864]\n",
      "[1 0 0] -> [0.04185412]\n",
      "[1 1 1] -> [0.97622774]\n",
      "Ваги та зміщення:\n",
      "[[-6.25771457]\n",
      " [ 4.03967445]\n",
      " [ 2.80631183]]\n",
      "[3.12690482]\n"
     ]
    }
   ],
   "source": [
    "import numpy as np\n",
    "\n",
    "# Сигмоїдна активаційна функція та її похідна\n",
    "def sigmoid(x):\n",
    "    return 1 / (1 + np.exp(-x))\n",
    "\n",
    "\n",
    "def sigmoid_derivative(x):\n",
    "    return x * (1 - x)\n",
    "\n",
    "\n",
    "# Вхідні дані\n",
    "inputs = np.array([[0, 0, 0], [0, 1, 0], [1, 0, 0], [1, 1, 1]])\n",
    "\n",
    "# Очікувані виходи\n",
    "expected_output = np.array([[1], [1], [0], [1]])\n",
    "\n",
    "# Ініціалізація ваг та навчальних параметрів\n",
    "np.random.seed(1)\n",
    "weights = np.random.uniform(size=(3, 1))\n",
    "bias = np.random.uniform(size=(1))\n",
    "learning_rate = 0.1\n",
    "\n",
    "# Навчання моделі\n",
    "for _ in range(10000):\n",
    "    # Пряме поширення\n",
    "    hidden_layer_input = np.dot(inputs, weights) + bias\n",
    "    hidden_layer_output = sigmoid(hidden_layer_input)\n",
    "\n",
    "    # Розрахунок помилки\n",
    "    error = expected_output - hidden_layer_output\n",
    "\n",
    "    # Зворотне поширення\n",
    "    d_predicted_output = error * sigmoid_derivative(hidden_layer_output)\n",
    "\n",
    "    # Оновлення ваг та зміщень\n",
    "    weights += np.dot(inputs.T, d_predicted_output) * learning_rate\n",
    "    bias += np.sum(d_predicted_output, axis=0) * learning_rate\n",
    "\n",
    "\n",
    "# Тестування моделі\n",
    "print(\"Тестування моделі:\")\n",
    "for i, input_data in enumerate(inputs):\n",
    "    prediction = sigmoid(np.dot(input_data, weights) + bias)\n",
    "    print(f\"{input_data} -> {prediction}\")\n",
    "\n",
    "print(\"Ваги та зміщення:\")\n",
    "print(weights)\n",
    "print(bias)"
   ]
  }
 ],
 "metadata": {
  "kernelspec": {
   "display_name": ".venv",
   "language": "python",
   "name": "python3"
  },
  "language_info": {
   "codemirror_mode": {
    "name": "ipython",
    "version": 3
   },
   "file_extension": ".py",
   "mimetype": "text/x-python",
   "name": "python",
   "nbconvert_exporter": "python",
   "pygments_lexer": "ipython3",
   "version": "3.11.8"
  }
 },
 "nbformat": 4,
 "nbformat_minor": 2
}
