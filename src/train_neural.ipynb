{
 "cells": [
  {
   "cell_type": "code",
   "execution_count": null,
   "metadata": {},
   "outputs": [],
   "source": [
    "import numpy as np\n",
    "\n",
    "def sigmoid(x):\n",
    "    return 1 / (1 + np.exp(-x))\n",
    "\n",
    "def sigmoid_derivative(x):\n",
    "    return x * (1 - x)\n",
    "\n",
    "inputs = np.array([[0, 0, 0], [0, 1, 0], [1, 0, 0], [1, 1, 1]])\n",
    "expected_output = np.array([[1], [1], [0], [1]])\n",
    "\n",
    "np.random.seed(1)\n",
    "weights = np.random.uniform(size=(3, 1))\n",
    "bias = np.random.uniform(size=(1))\n",
    "learning_rate = 0.1\n",
    "\n",
    "for _ in range(10000):\n",
    "    hidden_layer_input = np.dot(inputs, weights) + bias\n",
    "    hidden_layer_output = sigmoid(hidden_layer_input)\n",
    "\n",
    "    error = expected_output - hidden_layer_output\n",
    "    d_predicted_output = error * sigmoid_derivative(hidden_layer_output)\n",
    "\n",
    "    weights += np.dot(inputs.T, d_predicted_output) * learning_rate\n",
    "    bias += np.sum(d_predicted_output, axis=0) * learning_rate\n",
    "\n",
    "print(\"Тестування моделі:\")\n",
    "for i, input_data in enumerate(inputs):\n",
    "    prediction = sigmoid(np.dot(input_data, weights) + bias)\n",
    "    print(f\"{input_data} -> {prediction}\")\n",
    "\n",
    "weights, bias"
   ]
  }
 ],
 "metadata": {
  "kernelspec": {
   "display_name": ".venv",
   "language": "python",
   "name": "python3"
  },
  "language_info": {
   "codemirror_mode": {
    "name": "ipython",
    "version": 3
   },
   "file_extension": ".py",
   "mimetype": "text/x-python",
   "name": "python",
   "nbconvert_exporter": "python",
   "pygments_lexer": "ipython3",
   "version": "3.11.8"
  }
 },
 "nbformat": 4,
 "nbformat_minor": 2
}
